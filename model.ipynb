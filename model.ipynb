{
 "cells": [
  {
   "cell_type": "code",
   "execution_count": 55,
   "metadata": {},
   "outputs": [],
   "source": [
    "import numpy as np\n",
    "import pandas as pd\n",
    "import matplotlib.pyplot as plt\n",
    "\n",
    "import tensorflow as tf\n",
    "import tensorflow.keras\n",
    "from tensorflow.keras import Sequential\n",
    "from tensorflow.keras.layers import Dense\n",
    "from tensorflow.keras.optimizers import *\n",
    "\n",
    "from sklearn.model_selection import train_test_split"
   ]
  },
  {
   "cell_type": "code",
   "execution_count": 56,
   "metadata": {},
   "outputs": [],
   "source": [
    "# data\n",
    "url_data = 'data - 10,000.csv'\n",
    "df = pd.read_csv(url_data, index_col=0)\n",
    "\n",
    "X = df.loc[:,'G1a':'G2b']\n",
    "y = df.loc[:, 'force']"
   ]
  },
  {
   "cell_type": "code",
   "execution_count": 57,
   "metadata": {},
   "outputs": [],
   "source": [
    "X_train, X_test, y_train, y_test = train_test_split(X, y, test_size=0.3, shuffle=True)"
   ]
  },
  {
   "cell_type": "code",
   "execution_count": 88,
   "metadata": {},
   "outputs": [],
   "source": [
    "model = Sequential()\n",
    "model.add(Dense(units=64, activation='relu', input_dim=5))\n",
    "model.add(Dense(units=1))\n",
    "\n",
    "model.compile(loss='mse', optimizer=SGD(lr=0.003))"
   ]
  },
  {
   "cell_type": "code",
   "execution_count": 89,
   "metadata": {},
   "outputs": [
    {
     "data": {
      "text/plain": [
       "{'name': 'SGD',\n",
       " 'learning_rate': 0.003,\n",
       " 'decay': 0.0,\n",
       " 'momentum': 0.0,\n",
       " 'nesterov': False}"
      ]
     },
     "execution_count": 89,
     "metadata": {},
     "output_type": "execute_result"
    }
   ],
   "source": [
    "model.optimizer.get_config()"
   ]
  },
  {
   "cell_type": "code",
   "execution_count": 90,
   "metadata": {},
   "outputs": [
    {
     "name": "stdout",
     "output_type": "stream",
     "text": [
      "Train on 5600 samples, validate on 1400 samples\n",
      "Epoch 1/100\n",
      "5600/5600 - 0s - loss: 3.5059 - val_loss: 2.3523\n",
      "Epoch 2/100\n",
      "5600/5600 - 0s - loss: 2.3123 - val_loss: 2.2196\n",
      "Epoch 3/100\n",
      "5600/5600 - 0s - loss: 2.1949 - val_loss: 2.1150\n",
      "Epoch 4/100\n",
      "5600/5600 - 0s - loss: 2.1018 - val_loss: 2.0293\n",
      "Epoch 5/100\n",
      "5600/5600 - 0s - loss: 2.0251 - val_loss: 1.9545\n",
      "Epoch 6/100\n",
      "5600/5600 - 0s - loss: 1.9568 - val_loss: 1.8901\n",
      "Epoch 7/100\n",
      "5600/5600 - 0s - loss: 1.8986 - val_loss: 1.8428\n",
      "Epoch 8/100\n",
      "5600/5600 - 0s - loss: 1.8465 - val_loss: 1.7867\n",
      "Epoch 9/100\n",
      "5600/5600 - 0s - loss: 1.7999 - val_loss: 1.7422\n",
      "Epoch 10/100\n",
      "5600/5600 - 0s - loss: 1.7580 - val_loss: 1.7022\n",
      "Epoch 11/100\n",
      "5600/5600 - 0s - loss: 1.7176 - val_loss: 1.6654\n",
      "Epoch 12/100\n",
      "5600/5600 - 0s - loss: 1.6805 - val_loss: 1.6306\n",
      "Epoch 13/100\n",
      "5600/5600 - 0s - loss: 1.6442 - val_loss: 1.6004\n",
      "Epoch 14/100\n",
      "5600/5600 - 0s - loss: 1.6108 - val_loss: 1.5692\n",
      "Epoch 15/100\n",
      "5600/5600 - 0s - loss: 1.5803 - val_loss: 1.5408\n",
      "Epoch 16/100\n",
      "5600/5600 - 0s - loss: 1.5509 - val_loss: 1.5136\n",
      "Epoch 17/100\n",
      "5600/5600 - 0s - loss: 1.5238 - val_loss: 1.4885\n",
      "Epoch 18/100\n",
      "5600/5600 - 0s - loss: 1.4985 - val_loss: 1.4675\n",
      "Epoch 19/100\n",
      "5600/5600 - 0s - loss: 1.4754 - val_loss: 1.4537\n",
      "Epoch 20/100\n",
      "5600/5600 - 0s - loss: 1.4545 - val_loss: 1.4262\n",
      "Epoch 21/100\n",
      "5600/5600 - 0s - loss: 1.4338 - val_loss: 1.4088\n",
      "Epoch 22/100\n",
      "5600/5600 - 0s - loss: 1.4135 - val_loss: 1.3929\n",
      "Epoch 23/100\n",
      "5600/5600 - 0s - loss: 1.3976 - val_loss: 1.3788\n",
      "Epoch 24/100\n",
      "5600/5600 - 0s - loss: 1.3824 - val_loss: 1.3829\n",
      "Epoch 25/100\n",
      "5600/5600 - 0s - loss: 1.3682 - val_loss: 1.3506\n",
      "Epoch 26/100\n",
      "5600/5600 - 0s - loss: 1.3531 - val_loss: 1.3528\n",
      "Epoch 27/100\n",
      "5600/5600 - 0s - loss: 1.3425 - val_loss: 1.3303\n",
      "Epoch 28/100\n",
      "5600/5600 - 0s - loss: 1.3308 - val_loss: 1.3277\n",
      "Epoch 29/100\n",
      "5600/5600 - 0s - loss: 1.3191 - val_loss: 1.3094\n",
      "Epoch 30/100\n",
      "5600/5600 - 0s - loss: 1.3109 - val_loss: 1.3031\n",
      "Epoch 31/100\n",
      "5600/5600 - 0s - loss: 1.3020 - val_loss: 1.3115\n",
      "Epoch 32/100\n",
      "5600/5600 - 0s - loss: 1.2950 - val_loss: 1.2863\n",
      "Epoch 33/100\n",
      "5600/5600 - 0s - loss: 1.2863 - val_loss: 1.2808\n",
      "Epoch 34/100\n",
      "5600/5600 - 0s - loss: 1.2817 - val_loss: 1.2744\n",
      "Epoch 35/100\n",
      "5600/5600 - 0s - loss: 1.2757 - val_loss: 1.2716\n",
      "Epoch 36/100\n",
      "5600/5600 - 0s - loss: 1.2699 - val_loss: 1.2704\n",
      "Epoch 37/100\n",
      "5600/5600 - 0s - loss: 1.2639 - val_loss: 1.2619\n",
      "Epoch 38/100\n",
      "5600/5600 - 0s - loss: 1.2600 - val_loss: 1.2848\n",
      "Epoch 39/100\n",
      "5600/5600 - 0s - loss: 1.2586 - val_loss: 1.2613\n",
      "Epoch 40/100\n",
      "5600/5600 - 0s - loss: 1.2536 - val_loss: 1.2579\n",
      "Epoch 41/100\n",
      "5600/5600 - 0s - loss: 1.2506 - val_loss: 1.2472\n",
      "Epoch 42/100\n",
      "5600/5600 - 0s - loss: 1.2484 - val_loss: 1.2450\n",
      "Epoch 43/100\n",
      "5600/5600 - 0s - loss: 1.2444 - val_loss: 1.2497\n",
      "Epoch 44/100\n",
      "5600/5600 - 0s - loss: 1.2436 - val_loss: 1.2474\n",
      "Epoch 45/100\n",
      "5600/5600 - 0s - loss: 1.2414 - val_loss: 1.2397\n",
      "Epoch 46/100\n",
      "5600/5600 - 0s - loss: 1.2400 - val_loss: 1.2377\n",
      "Epoch 47/100\n",
      "5600/5600 - 0s - loss: 1.2378 - val_loss: 1.2383\n",
      "Epoch 48/100\n",
      "5600/5600 - 0s - loss: 1.2365 - val_loss: 1.2342\n",
      "Epoch 49/100\n",
      "5600/5600 - 0s - loss: 1.2360 - val_loss: 1.2346\n",
      "Epoch 50/100\n",
      "5600/5600 - 0s - loss: 1.2353 - val_loss: 1.2323\n",
      "Epoch 51/100\n",
      "5600/5600 - 0s - loss: 1.2337 - val_loss: 1.2349\n",
      "Epoch 52/100\n",
      "5600/5600 - 0s - loss: 1.2345 - val_loss: 1.2317\n",
      "Epoch 53/100\n",
      "5600/5600 - 0s - loss: 1.2326 - val_loss: 1.2323\n",
      "Epoch 54/100\n",
      "5600/5600 - 0s - loss: 1.2302 - val_loss: 1.2436\n",
      "Epoch 55/100\n",
      "5600/5600 - 0s - loss: 1.2318 - val_loss: 1.2306\n",
      "Epoch 56/100\n",
      "5600/5600 - 0s - loss: 1.2294 - val_loss: 1.2301\n",
      "Epoch 57/100\n",
      "5600/5600 - 0s - loss: 1.2294 - val_loss: 1.2352\n",
      "Epoch 58/100\n",
      "5600/5600 - 0s - loss: 1.2278 - val_loss: 1.2274\n",
      "Epoch 59/100\n",
      "5600/5600 - 0s - loss: 1.2278 - val_loss: 1.2268\n",
      "Epoch 60/100\n",
      "5600/5600 - 0s - loss: 1.2267 - val_loss: 1.2493\n",
      "Epoch 61/100\n",
      "5600/5600 - 0s - loss: 1.2270 - val_loss: 1.2350\n",
      "Epoch 62/100\n",
      "5600/5600 - 0s - loss: 1.2266 - val_loss: 1.2293\n",
      "Epoch 63/100\n",
      "5600/5600 - 0s - loss: 1.2244 - val_loss: 1.2359\n",
      "Epoch 64/100\n",
      "5600/5600 - 0s - loss: 1.2246 - val_loss: 1.2393\n",
      "Epoch 65/100\n",
      "5600/5600 - 0s - loss: 1.2239 - val_loss: 1.2277\n",
      "Epoch 66/100\n",
      "5600/5600 - 0s - loss: 1.2246 - val_loss: 1.2253\n",
      "Epoch 67/100\n",
      "5600/5600 - 0s - loss: 1.2222 - val_loss: 1.2315\n",
      "Epoch 68/100\n",
      "5600/5600 - 0s - loss: 1.2216 - val_loss: 1.2267\n",
      "Epoch 69/100\n",
      "5600/5600 - 0s - loss: 1.2229 - val_loss: 1.2252\n",
      "Epoch 70/100\n",
      "5600/5600 - 0s - loss: 1.2221 - val_loss: 1.2260\n",
      "Epoch 71/100\n",
      "5600/5600 - 0s - loss: 1.2219 - val_loss: 1.2244\n",
      "Epoch 72/100\n",
      "5600/5600 - 0s - loss: 1.2196 - val_loss: 1.2275\n",
      "Epoch 73/100\n",
      "5600/5600 - 0s - loss: 1.2230 - val_loss: 1.2300\n",
      "Epoch 74/100\n",
      "5600/5600 - 0s - loss: 1.2218 - val_loss: 1.2239\n",
      "Epoch 75/100\n",
      "5600/5600 - 0s - loss: 1.2197 - val_loss: 1.2318\n",
      "Epoch 76/100\n",
      "5600/5600 - 0s - loss: 1.2210 - val_loss: 1.2368\n",
      "Epoch 77/100\n",
      "5600/5600 - 0s - loss: 1.2196 - val_loss: 1.2242\n",
      "Epoch 78/100\n",
      "5600/5600 - 0s - loss: 1.2209 - val_loss: 1.2234\n",
      "Epoch 79/100\n",
      "5600/5600 - 0s - loss: 1.2202 - val_loss: 1.2238\n",
      "Epoch 80/100\n",
      "5600/5600 - 0s - loss: 1.2203 - val_loss: 1.2297\n",
      "Epoch 81/100\n",
      "5600/5600 - 0s - loss: 1.2206 - val_loss: 1.2282\n",
      "Epoch 82/100\n",
      "5600/5600 - 0s - loss: 1.2188 - val_loss: 1.2243\n",
      "Epoch 83/100\n",
      "5600/5600 - 0s - loss: 1.2190 - val_loss: 1.2244\n",
      "Epoch 84/100\n",
      "5600/5600 - 0s - loss: 1.2189 - val_loss: 1.2324\n",
      "Epoch 85/100\n",
      "5600/5600 - 0s - loss: 1.2185 - val_loss: 1.2256\n",
      "Epoch 86/100\n",
      "5600/5600 - 0s - loss: 1.2199 - val_loss: 1.2234\n",
      "Epoch 87/100\n",
      "5600/5600 - 0s - loss: 1.2200 - val_loss: 1.2240\n",
      "Epoch 88/100\n",
      "5600/5600 - 0s - loss: 1.2199 - val_loss: 1.2244\n",
      "Epoch 89/100\n",
      "5600/5600 - 0s - loss: 1.2198 - val_loss: 1.2282\n",
      "Epoch 90/100\n",
      "5600/5600 - 0s - loss: 1.2199 - val_loss: 1.2268\n",
      "Epoch 91/100\n",
      "5600/5600 - 0s - loss: 1.2197 - val_loss: 1.2344\n",
      "Epoch 92/100\n",
      "5600/5600 - 0s - loss: 1.2191 - val_loss: 1.2227\n",
      "Epoch 93/100\n",
      "5600/5600 - 0s - loss: 1.2174 - val_loss: 1.2222\n",
      "Epoch 94/100\n",
      "5600/5600 - 0s - loss: 1.2175 - val_loss: 1.2270\n",
      "Epoch 95/100\n",
      "5600/5600 - 0s - loss: 1.2184 - val_loss: 1.2312\n",
      "Epoch 96/100\n",
      "5600/5600 - 0s - loss: 1.2162 - val_loss: 1.2231\n",
      "Epoch 97/100\n",
      "5600/5600 - 0s - loss: 1.2164 - val_loss: 1.2604\n",
      "Epoch 98/100\n",
      "5600/5600 - 0s - loss: 1.2184 - val_loss: 1.2220\n",
      "Epoch 99/100\n",
      "5600/5600 - 0s - loss: 1.2172 - val_loss: 1.2228\n",
      "Epoch 100/100\n",
      "5600/5600 - 0s - loss: 1.2168 - val_loss: 1.2225\n"
     ]
    }
   ],
   "source": [
    "history = model.fit(x=X_train, y=y_train, validation_split=0.2, epochs=100, verbose=2)"
   ]
  },
  {
   "cell_type": "code",
   "execution_count": 82,
   "metadata": {},
   "outputs": [
    {
     "data": {
      "image/png": "[encoded data removed]",
      "text/plain": [
       "<Figure size 432x288 with 1 Axes>"
      ]
     },
     "metadata": {
      "needs_background": "light"
     },
     "output_type": "display_data"
    }
   ],
   "source": [
    "plt.plot(history.history['loss'])\n",
    "plt.plot(history.history['val_loss'])\n",
    "plt.title('model loss')\n",
    "plt.xlabel('epoch')\n",
    "plt.ylabel('loss')\n",
    "plt.legend(['train', 'val'])\n",
    "plt.show()"
   ]
  },
  {
   "cell_type": "code",
   "execution_count": 83,
   "metadata": {},
   "outputs": [
    {
     "name": "stdout",
     "output_type": "stream",
     "text": [
      "3000/3000 [==============================] - 0s 24us/sample - loss: 1.1587\n"
     ]
    },
    {
     "data": {
      "text/plain": [
       "1.1587189798355102"
      ]
     },
     "execution_count": 83,
     "metadata": {},
     "output_type": "execute_result"
    }
   ],
   "source": [
    "model.evaluate(X_test, y_test)"
   ]
  },
  {
   "cell_type": "code",
   "execution_count": 84,
   "metadata": {},
   "outputs": [
    {
     "data": {
      "text/plain": [
       "array([[3.5755742],\n",
       "       [1.8691835],\n",
       "       [3.9365354],\n",
       "       ...,\n",
       "       [3.7540705],\n",
       "       [2.9579337],\n",
       "       [2.9604812]], dtype=float32)"
      ]
     },
     "execution_count": 84,
     "metadata": {},
     "output_type": "execute_result"
    }
   ],
   "source": [
    "model.predict(X_test)"
   ]
  },
  {
   "cell_type": "code",
   "execution_count": 85,
   "metadata": {},
   "outputs": [
    {
     "data": {
      "text/plain": [
       "9324    4.208496\n",
       "62      1.544645\n",
       "2559    3.472602\n",
       "2197    0.888309\n",
       "8176    3.475933\n",
       "          ...   \n",
       "3779    5.457604\n",
       "8864    4.496632\n",
       "3836    4.077334\n",
       "4297    2.367751\n",
       "4247    2.728932\n",
       "Name: force, Length: 3000, dtype: float64"
      ]
     },
     "execution_count": 85,
     "metadata": {},
     "output_type": "execute_result"
    }
   ],
   "source": [
    "y_test"
   ]
  }
 ],
 "metadata": {
  "kernelspec": {
   "display_name": "Python 3",
   "language": "python",
   "name": "python3"
  },
  "language_info": {
   "codemirror_mode": {
    "name": "ipython",
    "version": 3
   },
   "file_extension": ".py",
   "mimetype": "text/x-python",
   "name": "python",
   "nbconvert_exporter": "python",
   "pygments_lexer": "ipython3",
   "version": "3.7.4"
  }
 },
 "nbformat": 4,
 "nbformat_minor": 2
}
