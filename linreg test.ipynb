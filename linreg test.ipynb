{
 "cells": [
  {
   "cell_type": "code",
   "execution_count": 434,
   "metadata": {},
   "outputs": [],
   "source": [
    "import numpy as np\n",
    "import pandas as pd\n",
    "\n",
    "from sklearn.model_selection import train_test_split\n",
    "from sklearn.linear_model import LinearRegression\n",
    "from sklearn.metrics import mean_squared_error as mse"
   ]
  },
  {
   "cell_type": "code",
   "execution_count": 435,
   "metadata": {},
   "outputs": [],
   "source": [
    "# data\n",
    "url_data = 'data - 900,000.csv'\n",
    "df = pd.read_csv(url_data, index_col=0)"
   ]
  },
  {
   "cell_type": "code",
   "execution_count": 436,
   "metadata": {},
   "outputs": [
    {
     "data": {
      "text/html": [
       "<div>\n",
       "<style scoped>\n",
       "    .dataframe tbody tr th:only-of-type {\n",
       "        vertical-align: middle;\n",
       "    }\n",
       "\n",
       "    .dataframe tbody tr th {\n",
       "        vertical-align: top;\n",
       "    }\n",
       "\n",
       "    .dataframe thead th {\n",
       "        text-align: right;\n",
       "    }\n",
       "</style>\n",
       "<table border=\"1\" class=\"dataframe\">\n",
       "  <thead>\n",
       "    <tr style=\"text-align: right;\">\n",
       "      <th></th>\n",
       "      <th>atom</th>\n",
       "      <th>G1a</th>\n",
       "      <th>G1b</th>\n",
       "      <th>G1c</th>\n",
       "      <th>G2a</th>\n",
       "      <th>G2b</th>\n",
       "      <th>force</th>\n",
       "    </tr>\n",
       "  </thead>\n",
       "  <tbody>\n",
       "    <tr>\n",
       "      <td>0</td>\n",
       "      <td>0</td>\n",
       "      <td>0.755653</td>\n",
       "      <td>0.461717</td>\n",
       "      <td>0.302135</td>\n",
       "      <td>0.085675</td>\n",
       "      <td>0.262856</td>\n",
       "      <td>3.159004</td>\n",
       "    </tr>\n",
       "    <tr>\n",
       "      <td>1</td>\n",
       "      <td>1</td>\n",
       "      <td>1.141169</td>\n",
       "      <td>0.360552</td>\n",
       "      <td>0.181251</td>\n",
       "      <td>0.100707</td>\n",
       "      <td>0.293541</td>\n",
       "      <td>2.742651</td>\n",
       "    </tr>\n",
       "    <tr>\n",
       "      <td>2</td>\n",
       "      <td>2</td>\n",
       "      <td>1.113460</td>\n",
       "      <td>0.314055</td>\n",
       "      <td>0.262061</td>\n",
       "      <td>0.085126</td>\n",
       "      <td>0.252947</td>\n",
       "      <td>1.645045</td>\n",
       "    </tr>\n",
       "    <tr>\n",
       "      <td>3</td>\n",
       "      <td>3</td>\n",
       "      <td>0.845902</td>\n",
       "      <td>0.354725</td>\n",
       "      <td>0.234683</td>\n",
       "      <td>0.093350</td>\n",
       "      <td>0.273293</td>\n",
       "      <td>2.576738</td>\n",
       "    </tr>\n",
       "    <tr>\n",
       "      <td>4</td>\n",
       "      <td>4</td>\n",
       "      <td>0.904430</td>\n",
       "      <td>0.438179</td>\n",
       "      <td>0.210778</td>\n",
       "      <td>0.096257</td>\n",
       "      <td>0.284321</td>\n",
       "      <td>3.843469</td>\n",
       "    </tr>\n",
       "    <tr>\n",
       "      <td>...</td>\n",
       "      <td>...</td>\n",
       "      <td>...</td>\n",
       "      <td>...</td>\n",
       "      <td>...</td>\n",
       "      <td>...</td>\n",
       "      <td>...</td>\n",
       "      <td>...</td>\n",
       "    </tr>\n",
       "    <tr>\n",
       "      <td>899995</td>\n",
       "      <td>27</td>\n",
       "      <td>0.674355</td>\n",
       "      <td>0.366979</td>\n",
       "      <td>0.219194</td>\n",
       "      <td>0.095000</td>\n",
       "      <td>0.276658</td>\n",
       "      <td>2.481122</td>\n",
       "    </tr>\n",
       "    <tr>\n",
       "      <td>899996</td>\n",
       "      <td>28</td>\n",
       "      <td>0.478936</td>\n",
       "      <td>0.486574</td>\n",
       "      <td>0.307965</td>\n",
       "      <td>0.069355</td>\n",
       "      <td>0.216915</td>\n",
       "      <td>1.534307</td>\n",
       "    </tr>\n",
       "    <tr>\n",
       "      <td>899997</td>\n",
       "      <td>29</td>\n",
       "      <td>0.485316</td>\n",
       "      <td>0.347288</td>\n",
       "      <td>0.358899</td>\n",
       "      <td>0.091865</td>\n",
       "      <td>0.269057</td>\n",
       "      <td>5.194985</td>\n",
       "    </tr>\n",
       "    <tr>\n",
       "      <td>899998</td>\n",
       "      <td>30</td>\n",
       "      <td>1.073870</td>\n",
       "      <td>0.497219</td>\n",
       "      <td>0.156117</td>\n",
       "      <td>0.096193</td>\n",
       "      <td>0.295482</td>\n",
       "      <td>1.741409</td>\n",
       "    </tr>\n",
       "    <tr>\n",
       "      <td>899999</td>\n",
       "      <td>31</td>\n",
       "      <td>0.651185</td>\n",
       "      <td>0.435064</td>\n",
       "      <td>0.399482</td>\n",
       "      <td>0.067504</td>\n",
       "      <td>0.207489</td>\n",
       "      <td>1.198459</td>\n",
       "    </tr>\n",
       "  </tbody>\n",
       "</table>\n",
       "<p>900000 rows × 7 columns</p>\n",
       "</div>"
      ],
      "text/plain": [
       "        atom       G1a       G1b       G1c       G2a       G2b     force\n",
       "0          0  0.755653  0.461717  0.302135  0.085675  0.262856  3.159004\n",
       "1          1  1.141169  0.360552  0.181251  0.100707  0.293541  2.742651\n",
       "2          2  1.113460  0.314055  0.262061  0.085126  0.252947  1.645045\n",
       "3          3  0.845902  0.354725  0.234683  0.093350  0.273293  2.576738\n",
       "4          4  0.904430  0.438179  0.210778  0.096257  0.284321  3.843469\n",
       "...      ...       ...       ...       ...       ...       ...       ...\n",
       "899995    27  0.674355  0.366979  0.219194  0.095000  0.276658  2.481122\n",
       "899996    28  0.478936  0.486574  0.307965  0.069355  0.216915  1.534307\n",
       "899997    29  0.485316  0.347288  0.358899  0.091865  0.269057  5.194985\n",
       "899998    30  1.073870  0.497219  0.156117  0.096193  0.295482  1.741409\n",
       "899999    31  0.651185  0.435064  0.399482  0.067504  0.207489  1.198459\n",
       "\n",
       "[900000 rows x 7 columns]"
      ]
     },
     "execution_count": 436,
     "metadata": {},
     "output_type": "execute_result"
    }
   ],
   "source": [
    "df"
   ]
  },
  {
   "cell_type": "code",
   "execution_count": 437,
   "metadata": {},
   "outputs": [],
   "source": [
    "X = df.loc[:,'G1a':'G2b']"
   ]
  },
  {
   "cell_type": "code",
   "execution_count": 438,
   "metadata": {},
   "outputs": [],
   "source": [
    "y = df.loc[:, 'force']"
   ]
  },
  {
   "cell_type": "code",
   "execution_count": 439,
   "metadata": {},
   "outputs": [],
   "source": [
    "X_train, X_test, y_train, y_test = train_test_split(X, y, test_size=0.3, shuffle=True)"
   ]
  },
  {
   "cell_type": "code",
   "execution_count": 440,
   "metadata": {},
   "outputs": [],
   "source": [
    "reg = LinearRegression().fit(X_train, y_train)"
   ]
  },
  {
   "cell_type": "code",
   "execution_count": 441,
   "metadata": {},
   "outputs": [
    {
     "data": {
      "text/plain": [
       "0.4100479673306342"
      ]
     },
     "execution_count": 441,
     "metadata": {},
     "output_type": "execute_result"
    }
   ],
   "source": [
    "reg.score(X_test, y_test)"
   ]
  },
  {
   "cell_type": "code",
   "execution_count": 442,
   "metadata": {},
   "outputs": [
    {
     "data": {
      "text/plain": [
       "1.2363773608893722"
      ]
     },
     "execution_count": 442,
     "metadata": {},
     "output_type": "execute_result"
    }
   ],
   "source": [
    "mse(y_test, reg.predict(X_test))"
   ]
  }
 ],
 "metadata": {
  "kernelspec": {
   "display_name": "Python 3",
   "language": "python",
   "name": "python3"
  },
  "language_info": {
   "codemirror_mode": {
    "name": "ipython",
    "version": 3
   },
   "file_extension": ".py",
   "mimetype": "text/x-python",
   "name": "python",
   "nbconvert_exporter": "python",
   "pygments_lexer": "ipython3",
   "version": "3.7.4"
  }
 },
 "nbformat": 4,
 "nbformat_minor": 2
}
